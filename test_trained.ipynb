{
 "cells": [
  {
   "cell_type": "code",
   "execution_count": 1,
   "id": "4d042818-08a9-4b60-b3e4-98be05507e3c",
   "metadata": {},
   "outputs": [],
   "source": [
    "from models.gpt2_self import *\n",
    "from presets import * \n",
    "from utils import *"
   ]
  },
  {
   "cell_type": "code",
   "execution_count": 2,
   "id": "40ace507-1adc-457f-92d5-e857febcbb0b",
   "metadata": {},
   "outputs": [],
   "source": [
    "import os\n",
    "\n",
    "os.environ['CUDA_VISIBLE_DEVICES'] = '0'"
   ]
  },
  {
   "cell_type": "code",
   "execution_count": 3,
   "id": "67b8dd0c-e25f-475b-98b7-28d0697ab0ac",
   "metadata": {},
   "outputs": [],
   "source": [
    "model = GPT(model_presets['gpt2']['500m'])\n",
    "checkpoint_path = '/workspace/model_43500.pt'"
   ]
  },
  {
   "cell_type": "code",
   "execution_count": 4,
   "id": "cd8f1b3e-2317-4659-9618-f80c3b6d1985",
   "metadata": {},
   "outputs": [
    {
     "name": "stderr",
     "output_type": "stream",
     "text": [
      "/src/NanoGPT-Plus/utils.py:216: FutureWarning: You are using `torch.load` with `weights_only=False` (the current default value), which uses the default pickle module implicitly. It is possible to construct malicious pickle data which will execute arbitrary code during unpickling (See https://github.com/pytorch/pytorch/blob/main/SECURITY.md#untrusted-models for more details). In a future release, the default value for `weights_only` will be flipped to `True`. This limits the functions that could be executed during unpickling. Arbitrary objects will no longer be allowed to be loaded via this mode unless they are explicitly allowlisted by the user via `torch.serialization.add_safe_globals`. We recommend you start setting `weights_only=True` for any use case where you don't have full control of the loaded file. Please open an issue on GitHub for any issues related to this experimental feature.\n",
      "  checkpoint = torch.load(ckp_path, map_location=torch.device('cpu'))\n"
     ]
    }
   ],
   "source": [
    "model = load_model(model,checkpoint_path)"
   ]
  },
  {
   "cell_type": "code",
   "execution_count": 5,
   "id": "67edd8fc-61a4-49a0-aa52-c0481f532939",
   "metadata": {},
   "outputs": [],
   "source": [
    "import tiktoken"
   ]
  },
  {
   "cell_type": "code",
   "execution_count": 6,
   "id": "7d07d655-053c-4e3e-b284-d449765d9542",
   "metadata": {},
   "outputs": [],
   "source": [
    "enc = tiktoken.get_encoding(\"gpt2\")\n",
    "device = torch.device('cuda')\n",
    "device_type = 'cuda'"
   ]
  },
  {
   "cell_type": "code",
   "execution_count": 7,
   "id": "fae83d38-6246-43e0-836a-396d8a91c673",
   "metadata": {},
   "outputs": [],
   "source": [
    "model = model.to(device)\n",
    "generate_prompt = \"OpenAI is\"#'OpenAI is '\n",
    "num_return_sequences = 4\n",
    "generate_max_length = 64\n",
    "model_imp = 'nano'"
   ]
  },
  {
   "cell_type": "code",
   "execution_count": 8,
   "id": "df489400-80b2-43f4-a1c9-1d842d3eeca1",
   "metadata": {
    "scrolled": true
   },
   "outputs": [
    {
     "name": "stdout",
     "output_type": "stream",
     "text": [
      "rank 0 sample 0: OpenAI is a company focused on developing deep learning software – machines that can perform any task without being explicitly programmed in any language. These AI systems are not just capable of comprehending complex information but can also generate images, text, and even music. With the right tools and training data, AI can improve its own performance\n",
      "rank 0 sample 1: OpenAI is creating images of the faces of celebrities.\n",
      "It said each face can be seen by an AI model of around 80,000 different faces, based on human expert opinion.\n",
      "But there are always flaws in facial recognition technology, like people's hair loss and wrinkles.\n",
      "The company has an image of a\n",
      "rank 0 sample 2: OpenAI is an open-source implementation of the Tensor Framework, which makes AI tasks more accessible to a wider audience. It brings together a range of tools and techniques that can be applied to any type of application.\n",
      "As an AI-centric platform, ChatGPT is an extension of the Tensor and Open\n",
      "rank 0 sample 3: OpenAI is a decentralized platform that allows users to generate content from large datasets using neural networks, and it operates in a decentralized fashion like a decentralized computer. This software has been used for scientific research and to automate the process of analyzing vast amounts of data, and it has been criticized for being too specific.\n",
      "In the\n",
      "generating 4 completions of length 64 took 6.00 seconds\n"
     ]
    },
    {
     "data": {
      "text/plain": [
       "['OpenAI is a company focused on developing deep learning software – machines that can perform any task without being explicitly programmed in any language. These AI systems are not just capable of comprehending complex information but can also generate images, text, and even music. With the right tools and training data, AI can improve its own performance',\n",
       " \"OpenAI is creating images of the faces of celebrities.\\nIt said each face can be seen by an AI model of around 80,000 different faces, based on human expert opinion.\\nBut there are always flaws in facial recognition technology, like people's hair loss and wrinkles.\\nThe company has an image of a\",\n",
       " 'OpenAI is an open-source implementation of the Tensor Framework, which makes AI tasks more accessible to a wider audience. It brings together a range of tools and techniques that can be applied to any type of application.\\nAs an AI-centric platform, ChatGPT is an extension of the Tensor and Open',\n",
       " 'OpenAI is a decentralized platform that allows users to generate content from large datasets using neural networks, and it operates in a decentralized fashion like a decentralized computer. This software has been used for scientific research and to automate the process of analyzing vast amounts of data, and it has been criticized for being too specific.\\nIn the']"
      ]
     },
     "execution_count": 8,
     "metadata": {},
     "output_type": "execute_result"
    }
   ],
   "source": [
    "completion(model, enc, generate_prompt, device, device_type,model_imp, generate_max_length,num_return_sequences)"
   ]
  },
  {
   "cell_type": "code",
   "execution_count": null,
   "id": "6e0525d4-0582-427a-858e-1252b243150e",
   "metadata": {},
   "outputs": [],
   "source": []
  },
  {
   "cell_type": "code",
   "execution_count": 9,
   "id": "327eebf0-7019-4f8c-aa0e-717a30737298",
   "metadata": {},
   "outputs": [
    {
     "name": "stdout",
     "output_type": "stream",
     "text": [
      "GPT(\n",
      "  (transformer): ModuleDict(\n",
      "    (wte): Embedding(50304, 1024)\n",
      "    (wpe): Embedding(1024, 1024)\n",
      "    (h): ModuleList(\n",
      "      (0-35): 36 x Block(\n",
      "        (ln_1): LayerNorm((1024,), eps=1e-05, elementwise_affine=True)\n",
      "        (mlp): MLP(\n",
      "          (c_fc): Linear(in_features=1024, out_features=4096, bias=True)\n",
      "          (gelu): GELU(approximate='tanh')\n",
      "          (c_proj): Linear(in_features=4096, out_features=1024, bias=True)\n",
      "        )\n",
      "        (ln_2): LayerNorm((1024,), eps=1e-05, elementwise_affine=True)\n",
      "        (attn): MultiHeadSelfAttention(\n",
      "          (c_attn): Linear(in_features=1024, out_features=3072, bias=True)\n",
      "          (c_proj): Linear(in_features=1024, out_features=1024, bias=True)\n",
      "        )\n",
      "      )\n",
      "    )\n",
      "    (ln_f): LayerNorm((1024,), eps=1e-05, elementwise_affine=True)\n",
      "  )\n",
      "  (lm_head): Linear(in_features=1024, out_features=50304, bias=False)\n",
      ")\n"
     ]
    }
   ],
   "source": [
    "print(model)"
   ]
  },
  {
   "cell_type": "code",
   "execution_count": null,
   "id": "01484c5e-acc3-48be-905b-80a0832376ad",
   "metadata": {},
   "outputs": [],
   "source": []
  },
  {
   "cell_type": "code",
   "execution_count": 10,
   "id": "a106c259-fcae-4aa9-92b9-6e142cefbda5",
   "metadata": {},
   "outputs": [
    {
     "ename": "TypeError",
     "evalue": "evaluate_hella_swag() missing 1 required positional argument: 'model_imp'",
     "output_type": "error",
     "traceback": [
      "\u001b[0;31m---------------------------------------------------------------------------\u001b[0m",
      "\u001b[0;31mTypeError\u001b[0m                                 Traceback (most recent call last)",
      "Cell \u001b[0;32mIn[10], line 1\u001b[0m\n\u001b[0;32m----> 1\u001b[0m num_correct_norm,num_total,acc_norm \u001b[38;5;241m=\u001b[39m \u001b[43mevaluate_hella_swag\u001b[49m\u001b[43m(\u001b[49m\u001b[43mmodel\u001b[49m\u001b[43m,\u001b[49m\u001b[43m \u001b[49m\u001b[43mdevice\u001b[49m\u001b[43m,\u001b[49m\u001b[43m \u001b[49m\u001b[43mdevice_type\u001b[49m\u001b[43m)\u001b[49m\n",
      "\u001b[0;31mTypeError\u001b[0m: evaluate_hella_swag() missing 1 required positional argument: 'model_imp'"
     ]
    }
   ],
   "source": [
    "num_correct_norm,num_total,acc_norm = evaluate_hella_swag(model, device, device_type)"
   ]
  },
  {
   "cell_type": "code",
   "execution_count": null,
   "id": "9bfef630-f704-4a75-81c9-44b794ac9df3",
   "metadata": {},
   "outputs": [],
   "source": [
    "print(f\"HellaSwag accuracy: {num_correct_norm}/{num_total}={acc_norm:.4f}\")"
   ]
  },
  {
   "cell_type": "code",
   "execution_count": null,
   "id": "72209f1f-94a1-4a47-b7b9-c5453ee43139",
   "metadata": {},
   "outputs": [],
   "source": []
  }
 ],
 "metadata": {
  "kernelspec": {
   "display_name": "Python 3 (ipykernel)",
   "language": "python",
   "name": "python3"
  },
  "language_info": {
   "codemirror_mode": {
    "name": "ipython",
    "version": 3
   },
   "file_extension": ".py",
   "mimetype": "text/x-python",
   "name": "python",
   "nbconvert_exporter": "python",
   "pygments_lexer": "ipython3",
   "version": "3.10.14"
  }
 },
 "nbformat": 4,
 "nbformat_minor": 5
}
