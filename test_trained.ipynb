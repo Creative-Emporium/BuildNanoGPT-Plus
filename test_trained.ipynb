{
 "cells": [
  {
   "cell_type": "code",
   "execution_count": 1,
   "id": "4d042818-08a9-4b60-b3e4-98be05507e3c",
   "metadata": {},
   "outputs": [],
   "source": [
    "from models.gpt2 import *\n",
    "from presets import * \n",
    "from utils import *"
   ]
  },
  {
   "cell_type": "code",
   "execution_count": 2,
   "id": "40ace507-1adc-457f-92d5-e857febcbb0b",
   "metadata": {},
   "outputs": [],
   "source": [
    "import os\n",
    "\n",
    "os.environ['CUDA_VISIBLE_DEVICES'] = '3'"
   ]
  },
  {
   "cell_type": "code",
   "execution_count": 3,
   "id": "67b8dd0c-e25f-475b-98b7-28d0697ab0ac",
   "metadata": {},
   "outputs": [],
   "source": [
    "model = GPT(model_presets['gpt2']['124m'])\n",
    "checkpoint_path = './log/model_19072.pt'"
   ]
  },
  {
   "cell_type": "code",
   "execution_count": 4,
   "id": "cd8f1b3e-2317-4659-9618-f80c3b6d1985",
   "metadata": {},
   "outputs": [],
   "source": [
    "model = load_model(model,checkpoint_path)"
   ]
  },
  {
   "cell_type": "code",
   "execution_count": 5,
   "id": "67edd8fc-61a4-49a0-aa52-c0481f532939",
   "metadata": {},
   "outputs": [],
   "source": [
    "import tiktoken"
   ]
  },
  {
   "cell_type": "code",
   "execution_count": 6,
   "id": "7d07d655-053c-4e3e-b284-d449765d9542",
   "metadata": {},
   "outputs": [],
   "source": [
    "enc = tiktoken.get_encoding(\"gpt2\")\n",
    "device = torch.device('cuda')\n",
    "device_type = 'cuda'"
   ]
  },
  {
   "cell_type": "code",
   "execution_count": 7,
   "id": "fae83d38-6246-43e0-836a-396d8a91c673",
   "metadata": {},
   "outputs": [],
   "source": [
    "model = model.to(device)\n",
    "generate_prompt = 'OpenAI is '\n",
    "num_return_sequences = 4\n",
    "generate_max_length = 64"
   ]
  },
  {
   "cell_type": "code",
   "execution_count": 8,
   "id": "df489400-80b2-43f4-a1c9-1d842d3eeca1",
   "metadata": {
    "scrolled": true
   },
   "outputs": [
    {
     "name": "stdout",
     "output_type": "stream",
     "text": [
      "rank 0 sample 0: OpenAI is  a non-profit, non- profit private digital marketing platform \n",
      "DARPA has just introduced an innovative new model to help the public promote and encourage citizen science. It is called citizen science: to be funded by the US Fish and Wildlife Service, the US Department of Agriculture, and the World\n",
      "rank 0 sample 1: OpenAI is  presented using a large amount of information on the subject subject itself, as follows:\n",
      "|Taken away,||In its current state of powerlessness against the dominant culture, and with the ever-increasing pressure to redefine our knowledge systems||||The “knowledge economy,” the �\n",
      "rank 0 sample 2: OpenAI is \n",
      "The search for self-driving cars is going to be dominated by autonomous vehicles. While the technology is still developing and there are many technical challenges, it seems that there are many opportunities for AI as a whole to bring all the components together.<|endoftext|>Fruits and vegetables have long been part of my\n",
      "rank 0 sample 3: OpenAI is  for open-source AI-based language processing which is being developed by IBM and US research centres, has been able to generate and interpret a rich knowledge base of machine language and speech over time. AI-based technology allows for more than a computer program to interpret what is said to be true. The\n"
     ]
    }
   ],
   "source": [
    "completion(model, enc, generate_prompt, device, device_type, generate_max_length,num_return_sequences)"
   ]
  },
  {
   "cell_type": "code",
   "execution_count": 9,
   "id": "a106c259-fcae-4aa9-92b9-6e142cefbda5",
   "metadata": {},
   "outputs": [],
   "source": [
    "num_correct_norm,num_total,acc_norm = evaluate_hella_swag(model, device, device_type)"
   ]
  },
  {
   "cell_type": "code",
   "execution_count": 10,
   "id": "9bfef630-f704-4a75-81c9-44b794ac9df3",
   "metadata": {},
   "outputs": [
    {
     "name": "stdout",
     "output_type": "stream",
     "text": [
      "HellaSwag accuracy: 3016/10042=0.3003\n"
     ]
    }
   ],
   "source": [
    "print(f\"HellaSwag accuracy: {num_correct_norm}/{num_total}={acc_norm:.4f}\")"
   ]
  },
  {
   "cell_type": "code",
   "execution_count": null,
   "id": "72209f1f-94a1-4a47-b7b9-c5453ee43139",
   "metadata": {},
   "outputs": [],
   "source": []
  }
 ],
 "metadata": {
  "kernelspec": {
   "display_name": "Python 3 (ipykernel)",
   "language": "python",
   "name": "python3"
  },
  "language_info": {
   "codemirror_mode": {
    "name": "ipython",
    "version": 3
   },
   "file_extension": ".py",
   "mimetype": "text/x-python",
   "name": "python",
   "nbconvert_exporter": "python",
   "pygments_lexer": "ipython3",
   "version": "3.10.14"
  }
 },
 "nbformat": 4,
 "nbformat_minor": 5
}
